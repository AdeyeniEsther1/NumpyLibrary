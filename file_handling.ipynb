{
 "cells": [
  {
   "cell_type": "markdown",
   "id": "b20df30e-2b4e-4672-81d6-a4fc0d90c3f2",
   "metadata": {},
   "source": [
    "#This dataset contains loan information, including loan ID, customer gender, location, region, total price for each loan etc.\n",
    "\n",
    "\n",
    "## Instructions\n",
    "\n",
    "1.Begin by importing the necessary libraries, numpy.\n",
    "2.Use the open() function to open csv file and assign the result to a variable.\n",
    "3.Use the numpy array to perform some basic statistical analysis on the data, such as finding the mean, median, and standard deviation of the loan amounts.\n",
    "\n",
    "## Note:\n",
    "\n",
    "1.Be sure to close the file after you have finished reading it in with the open() function.\n",
    "2.Use the delimiter parameter in the genfromtxt() function to specify that the values in the file are separated by commas.\n",
    "3.You can use the numpy functions mean(), median(), and std() to find the mean, median, and standard deviation of the loan amounts."
   ]
  },
  {
   "cell_type": "code",
   "execution_count": 49,
   "id": "8de13c35-c8a2-47c9-8311-4e890552b272",
   "metadata": {},
   "outputs": [
    {
     "name": "stdout",
     "output_type": "stream",
     "text": [
      "Loan_ID,Gender,Married,Dependents,Education,Self_Employed,ApplicantIncome,CoapplicantIncome,LoanAmount,Loan_Amount_Term,Credit_History,Property_Area,Loan_Status\n",
      "\n",
      "Mean loan amount:141.16612377850163\n",
      "Median loan amount:125.0\n",
      "Standard deviation of loan amounts:88.2686624330009\n"
     ]
    }
   ],
   "source": [
    "import numpy as np\n",
    "#open() function to open csv file and assign the result to a vaiable.#the variable name is the \"file\"\n",
    "#the 'with' statement ensures that the file is automatically closed when the indented block of code finishes executing\n",
    "with open(r\"C:\\Users\\tioluwanimi\\Downloads\\Loan_prediction_dataset.csv\", \"r\") as file:\n",
    "     print(file.readline())\n",
    "     #use the delimiter parameter in the genfromtxt() function to specify that the values in the file are separated by commas and other parameters.\n",
    "data= np.genfromtxt(r\"C:\\Users\\tioluwanimi\\Downloads\\Loan_prediction_dataset.csv\", delimiter =',', filling_values= 0, skip_header=1, usecols=8)\n",
    "#Use the numpy array to perform some basic statistical analysis on the data, such as finding the mean, median, and standard deviation of the loan amounts.\n",
    "mean_amount = np.mean(data)\n",
    "median_amount = np.median(data)\n",
    "std_amount = np.std(data)\n",
    "#print the results\n",
    "print(f\"Mean loan amount:{mean_amount}\")\n",
    "print(f\"Median loan amount:{median_amount}\")\n",
    "print(f\"Standard deviation of loan amounts:{std_amount}\")\n",
    "\n"
   ]
  },
  {
   "cell_type": "code",
   "execution_count": null,
   "id": "c11f092a-c7de-4195-b6ff-6cb500f39bb5",
   "metadata": {},
   "outputs": [],
   "source": []
  }
 ],
 "metadata": {
  "kernelspec": {
   "display_name": "Python 3 (ipykernel)",
   "language": "python",
   "name": "python3"
  },
  "language_info": {
   "codemirror_mode": {
    "name": "ipython",
    "version": 3
   },
   "file_extension": ".py",
   "mimetype": "text/x-python",
   "name": "python",
   "nbconvert_exporter": "python",
   "pygments_lexer": "ipython3",
   "version": "3.12.4"
  }
 },
 "nbformat": 4,
 "nbformat_minor": 5
}
