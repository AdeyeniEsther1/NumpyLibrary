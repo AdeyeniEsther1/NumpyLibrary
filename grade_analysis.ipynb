{
 "cells": [
  {
   "cell_type": "markdown",
   "id": "a54702e7-84c1-4850-b26d-a631ca694b31",
   "metadata": {},
   "source": [
    "## Create a numpy array called \"grades\" that contains the following grades: [85, 90, 88, 92, 95, 80, 75, 98, 89, 83]\n",
    "\n",
    "\n",
    "# Instructions\n",
    "\n",
    "Create a new file called \"grades_analysis.py\"\n",
    "Import the numpy library and create the \"grades\" array as specified above.\n",
    "Use numpy functions to calculate the mean, median, and standard deviation of the grades.\n",
    "Use numpy function to find the maximum and minimum of the grades.\n",
    "Use numpy function to sort the grades in ascending order.\n",
    "Use numpy function to find the index of the highest grade in the array.\n",
    "Use numpy function to count the number of students who scored above 90.\n",
    "Use numpy function to calculate the percentage of students who scored above 90.\n",
    "Use numpy function to calculate the percentage of students who scored below 75.\n",
    "Use numpy function to extract all the grades above 90 and put them in a new array called \"high_performers\".\n",
    "Create a new array called \"passing_grades\" that contains all the grades above 75.\n",
    "Print the result of all the above steps.\n",
    "# Note:\n",
    "\n",
    "to calculate percentage use numpy.mean(grades > 90) * 100\n",
    "to extract the grades above 90 use grades[grades > 90]\n",
    "to extract the grades above 75 use grades[grades > 75]\n",
    "You can use other numpy functions as well to analyze the data as you want. The above steps are just examples of what can be done."
   ]
  },
  {
   "cell_type": "code",
   "execution_count": 1,
   "id": "560fab08-2f54-41ec-aaf5-7af1fe8ebba8",
   "metadata": {},
   "outputs": [
    {
     "name": "stdout",
     "output_type": "stream",
     "text": [
      "Mean grade: 87.5\n",
      "Median grade: 88.5\n",
      "Standard deviation: 6.591661399070799\n",
      "Maximum grade: 98\n",
      "Minimum grade: 75\n",
      "Sorted grade: [75 80 83 85 88 89 90 92 95 98]\n",
      "Index of the highest grade: 7\n",
      "Students who scored above 90: 0.3\n",
      "Percentage of students who scored above 90: 30 %\n",
      "Percentage of students who scored below 75: 0.0 %\n",
      "Grades of high performers: [92 95 98]\n",
      "Passing grades: [85 90 88 92 95 80 98 89 83]\n"
     ]
    }
   ],
   "source": [
    "#import the numpy library\n",
    "import numpy as np\n",
    "#create the'grades' array\n",
    "grades = np.array([85, 90, 88, 92, 95, 80, 75, 98, 89, 83])\n",
    "#numpy functions to calculate the mean, median and standard deviation of the grades\n",
    "#to calculate the mean\n",
    "mean_grade = np.mean(grades)\n",
    "#to calculate the median\n",
    "median_grade = np.median(grades)\n",
    "#to calculate standard deviation\n",
    "std_dev = np.std(grades)\n",
    "#numpy functions to find the max and min of the grades\n",
    "max_grade = np.max(grades)\n",
    "min_grade = np.min(grades)\n",
    "#numpy function to sort the grades in ascending order\n",
    "sorted_grades = np.sort(grades)\n",
    "#numpy function to find the index of the highest grade in the array\n",
    "highest_grade_index = np.argmax(grades)\n",
    "#numpy function to count the number of students who scored above 90\n",
    "students_above_90 =np.mean(grades > 90)\n",
    "#numpy function to calculate the percentage of students who scored above 90\n",
    "percentage_above_90 = np.mean(grades > 90) * 100\n",
    "#numpy function to calculate the percentage of students who scored below 75\n",
    "percentage_of_students_below_75 = np.mean(grades < 75) * 100\n",
    "#numpy function to extract all the grades above 90 and put them in a new array called \"high_performers\"\n",
    "high_performers = grades[grades > 90]\n",
    "#create a new array called \"passing_grades\" that contains all the grades above 75.\n",
    "passing_grades = grades[grades > 75]\n",
    "#print the result of all the above steps\n",
    "print(\"Mean grade:\", mean_grade)\n",
    "print(\"Median grade:\", median_grade)\n",
    "print(\"Standard deviation:\", std_dev)\n",
    "print(\"Maximum grade:\", max_grade)\n",
    "print(\"Minimum grade:\", min_grade)\n",
    "print(\"Sorted grade:\", sorted_grades)\n",
    "print(\"Index of the highest grade:\", highest_grade_index)\n",
    "print(\"Students who scored above 90:\", students_above_90)\n",
    "print(\"Percentage of students who scored above 90:\", int(percentage_above_90), \"%\")\n",
    "print(\"Percentage of students who scored below 75:\", (percentage_of_students_below_75), \"%\")\n",
    "print(\"Grades of high performers:\", high_performers)\n",
    "print(\"Passing grades:\", passing_grades)\n",
    "\n"
   ]
  },
  {
   "cell_type": "code",
   "execution_count": null,
   "id": "5ad9c8fe-6240-4529-9671-82e59ea79532",
   "metadata": {},
   "outputs": [],
   "source": []
  }
 ],
 "metadata": {
  "kernelspec": {
   "display_name": "Python 3 (ipykernel)",
   "language": "python",
   "name": "python3"
  },
  "language_info": {
   "codemirror_mode": {
    "name": "ipython",
    "version": 3
   },
   "file_extension": ".py",
   "mimetype": "text/x-python",
   "name": "python",
   "nbconvert_exporter": "python",
   "pygments_lexer": "ipython3",
   "version": "3.12.4"
  }
 },
 "nbformat": 4,
 "nbformat_minor": 5
}
